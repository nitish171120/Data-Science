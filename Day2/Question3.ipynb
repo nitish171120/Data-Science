{
 "cells": [
  {
   "cell_type": "code",
   "execution_count": 2,
   "metadata": {},
   "outputs": [
    {
     "name": "stdout",
     "output_type": "stream",
     "text": [
      "Enter total no. of index:6\n",
      "\n",
      " {1: 1, 2: 4, 3: 9, 4: 16, 5: 25, 6: 36}\n"
     ]
    }
   ],
   "source": [
    "r=int(input(\"Enter total no. of index:\"))\n",
    "\n",
    "d = {}\n",
    "\n",
    "for i in range(1,r+1):\n",
    "    keys =i # here i have taken keys as strings\n",
    "    values = i*i # here i have taken values as integers\n",
    "    d[keys] = values\n",
    "print(\"\\n\",d)"
   ]
  }
 ],
 "metadata": {
  "kernelspec": {
   "display_name": "Python 3",
   "language": "python",
   "name": "python3"
  },
  "language_info": {
   "codemirror_mode": {
    "name": "ipython",
    "version": 3
   },
   "file_extension": ".py",
   "mimetype": "text/x-python",
   "name": "python",
   "nbconvert_exporter": "python",
   "pygments_lexer": "ipython3",
   "version": "3.8.3"
  }
 },
 "nbformat": 4,
 "nbformat_minor": 4
}
