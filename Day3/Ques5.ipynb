{
 "cells": [
  {
   "cell_type": "code",
   "execution_count": 5,
   "metadata": {},
   "outputs": [],
   "source": [
    "import numpy as np"
   ]
  },
  {
   "cell_type": "code",
   "execution_count": 6,
   "metadata": {},
   "outputs": [
    {
     "name": "stdout",
     "output_type": "stream",
     "text": [
      "[[0 1 2]\n",
      " [3 4 5]\n",
      " [6 7 8]]\n",
      "[[13 14 17]\n",
      " [18 52 16]\n",
      " [22 89 90]]\n"
     ]
    }
   ],
   "source": [
    "arr= np.arange(9).reshape(3,3)\n",
    "arr1= np.array([[13,14,17],[18,52,16],[22,89,90]])\n",
    "print(arr)\n",
    "print(arr1)"
   ]
  },
  {
   "cell_type": "code",
   "execution_count": 7,
   "metadata": {},
   "outputs": [
    {
     "name": "stdout",
     "output_type": "stream",
     "text": [
      "[[ 0  1  2]\n",
      " [ 3  4  5]\n",
      " [ 6  7  8]\n",
      " [13 14 17]\n",
      " [18 52 16]\n",
      " [22 89 90]]\n",
      " \n",
      "[[ 0  1  2 13 14 17]\n",
      " [ 3  4  5 18 52 16]\n",
      " [ 6  7  8 22 89 90]]\n"
     ]
    }
   ],
   "source": [
    "v= np.vstack((arr, arr1))\n",
    "h= np.hstack((arr, arr1))\n",
    "\n",
    "print(v)\n",
    "print(\" \")\n",
    "print(h)"
   ]
  },
  {
   "cell_type": "code",
   "execution_count": null,
   "metadata": {},
   "outputs": [],
   "source": []
  }
 ],
 "metadata": {
  "kernelspec": {
   "display_name": "Python 3",
   "language": "python",
   "name": "python3"
  },
  "language_info": {
   "codemirror_mode": {
    "name": "ipython",
    "version": 3
   },
   "file_extension": ".py",
   "mimetype": "text/x-python",
   "name": "python",
   "nbconvert_exporter": "python",
   "pygments_lexer": "ipython3",
   "version": "3.8.3"
  }
 },
 "nbformat": 4,
 "nbformat_minor": 4
}
