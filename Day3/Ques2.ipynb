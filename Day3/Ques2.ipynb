{
 "cells": [
  {
   "cell_type": "code",
   "execution_count": 14,
   "metadata": {},
   "outputs": [
    {
     "name": "stdout",
     "output_type": "stream",
     "text": [
      "enter item for list 1 :10\n",
      "enter item for list 1 :20\n",
      "enter item for list 1 :30\n",
      "enter item for list 1 :40\n",
      "enter item for list 1 :50\n",
      "enter item for list 2 :5\n",
      "enter item for list 2 :10\n",
      "enter item for list 2 :15\n",
      "enter item for list 2 :20\n",
      "enter item for list 2 :25\n",
      "[10 20 30 40 50]\n",
      "[ 5 10 15 20 25]\n",
      "[10 20 30 40 50  5 10 15 20 25]\n",
      "[10 20 30 40 50]\n",
      "[ 5 10 15 20 25]\n",
      "[ 5 10 10 15 20 20 25 30 40 50]\n"
     ]
    }
   ],
   "source": [
    "p=[]\n",
    "q=[]\n",
    "for i in range(5):\n",
    "    a=int((input(\"enter item for list 1 :\")))\n",
    "    p.append(a)\n",
    "for i in range(5):\n",
    "    b=int((input(\"enter item for list 2 :\")))\n",
    "    q.append(b)\n",
    "\n",
    "arr1= np.array(p)\n",
    "arr2= np.array(q)\n",
    "\n",
    "print(arr1)\n",
    "print(arr2)\n",
    "\n",
    "c=np.concatenate([arr1,arr2])\n",
    "print(c)\n",
    "\n",
    "print(np.sort(arr1))\n",
    "print(np.sort(arr2))\n",
    "print(np.sort(c))"
   ]
  },
  {
   "cell_type": "code",
   "execution_count": null,
   "metadata": {},
   "outputs": [],
   "source": []
  }
 ],
 "metadata": {
  "kernelspec": {
   "display_name": "Python 3",
   "language": "python",
   "name": "python3"
  },
  "language_info": {
   "codemirror_mode": {
    "name": "ipython",
    "version": 3
   },
   "file_extension": ".py",
   "mimetype": "text/x-python",
   "name": "python",
   "nbconvert_exporter": "python",
   "pygments_lexer": "ipython3",
   "version": "3.8.3"
  }
 },
 "nbformat": 4,
 "nbformat_minor": 4
}
